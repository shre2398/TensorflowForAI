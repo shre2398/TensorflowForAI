{
  "nbformat": 4,
  "nbformat_minor": 0,
  "metadata": {
    "colab": {
      "name": "horse-and-human-augmentation.ipynb",
      "provenance": [],
      "collapsed_sections": [],
      "toc_visible": true,
      "authorship_tag": "ABX9TyOWsxXPm5imQi6r8TnlGHAo",
      "include_colab_link": true
    },
    "kernelspec": {
      "name": "python3",
      "display_name": "Python 3"
    },
    "language_info": {
      "name": "python"
    },
    "accelerator": "GPU"
  },
  "cells": [
    {
      "cell_type": "markdown",
      "metadata": {
        "id": "view-in-github",
        "colab_type": "text"
      },
      "source": [
        "<a href=\"https://colab.research.google.com/github/shre2398/TensorflowForAI/blob/main/horse_and_human_augmentation.ipynb\" target=\"_parent\"><img src=\"https://colab.research.google.com/assets/colab-badge.svg\" alt=\"Open In Colab\"/></a>"
      ]
    },
    {
      "cell_type": "markdown",
      "metadata": {
        "id": "4bgAL13i-R4Y"
      },
      "source": [
        "## Download datasets"
      ]
    },
    {
      "cell_type": "code",
      "metadata": {
        "colab": {
          "base_uri": "https://localhost:8080/"
        },
        "id": "xapWFMhP-Qke",
        "outputId": "1f7a773f-d263-45c6-808c-e7961a844d7d"
      },
      "source": [
        "!wget --no-check-certificate \\\n",
        "    https://storage.googleapis.com/laurencemoroney-blog.appspot.com/horse-or-human.zip \\\n",
        "    -O /tmp/horse-or-human.zip\n",
        "\n",
        "!wget --no-check-certificate \\\n",
        "    https://storage.googleapis.com/laurencemoroney-blog.appspot.com/validation-horse-or-human.zip \\\n",
        "    -O /tmp/validation-horse-or-human.zip"
      ],
      "execution_count": 1,
      "outputs": [
        {
          "output_type": "stream",
          "text": [
            "--2021-05-16 05:03:59--  https://storage.googleapis.com/laurencemoroney-blog.appspot.com/horse-or-human.zip\n",
            "Resolving storage.googleapis.com (storage.googleapis.com)... 142.250.73.240, 142.250.65.80, 142.250.81.208, ...\n",
            "Connecting to storage.googleapis.com (storage.googleapis.com)|142.250.73.240|:443... connected.\n",
            "HTTP request sent, awaiting response... 200 OK\n",
            "Length: 149574867 (143M) [application/zip]\n",
            "Saving to: ‘/tmp/horse-or-human.zip’\n",
            "\n",
            "/tmp/horse-or-human 100%[===================>] 142.65M   149MB/s    in 1.0s    \n",
            "\n",
            "2021-05-16 05:04:00 (149 MB/s) - ‘/tmp/horse-or-human.zip’ saved [149574867/149574867]\n",
            "\n",
            "--2021-05-16 05:04:00--  https://storage.googleapis.com/laurencemoroney-blog.appspot.com/validation-horse-or-human.zip\n",
            "Resolving storage.googleapis.com (storage.googleapis.com)... 142.250.31.128, 172.217.164.144, 142.250.73.208, ...\n",
            "Connecting to storage.googleapis.com (storage.googleapis.com)|142.250.31.128|:443... connected.\n",
            "HTTP request sent, awaiting response... 200 OK\n",
            "Length: 11480187 (11M) [application/zip]\n",
            "Saving to: ‘/tmp/validation-horse-or-human.zip’\n",
            "\n",
            "/tmp/validation-hor 100%[===================>]  10.95M  --.-KB/s    in 0.1s    \n",
            "\n",
            "2021-05-16 05:04:00 (96.8 MB/s) - ‘/tmp/validation-horse-or-human.zip’ saved [11480187/11480187]\n",
            "\n"
          ],
          "name": "stdout"
        }
      ]
    },
    {
      "cell_type": "markdown",
      "metadata": {
        "id": "vjoWLYFa-mH_"
      },
      "source": [
        "## Unzip the downloaded dataset and define directories"
      ]
    },
    {
      "cell_type": "code",
      "metadata": {
        "id": "iC-fb2Be-sco"
      },
      "source": [
        "import os\n",
        "import zipfile\n",
        "\n",
        "local_zip = '/tmp/horse-or-human.zip'\n",
        "zip_ref = zipfile.ZipFile(local_zip, 'r')\n",
        "zip_ref.extractall('/tmp/horse-or-human')\n",
        "local_zip = '/tmp/validation-horse-or-human.zip'\n",
        "zip_ref = zipfile.ZipFile(local_zip, 'r')\n",
        "zip_ref.extractall('/tmp/validation-horse-or-human')\n",
        "zip_ref.close()"
      ],
      "execution_count": 2,
      "outputs": []
    },
    {
      "cell_type": "code",
      "metadata": {
        "id": "lRKm6GLC_gfz"
      },
      "source": [
        "train_horse_dir = os.path.join('/tmp/horse-or-human', 'horses')\n",
        "train_human_dir = os.path.join('/tmp/horse-or-human', 'humans')\n",
        "\n",
        "validation_horse_dir = os.path.join('/tmp/validation-horse-or-human', 'horses')\n",
        "validation_human_dir = os.path.join('/tmp/validation-horse-or-human', 'humans')"
      ],
      "execution_count": 3,
      "outputs": []
    },
    {
      "cell_type": "markdown",
      "metadata": {
        "id": "bO_8LF3vHC4n"
      },
      "source": [
        "## Building a small model from scratch"
      ]
    },
    {
      "cell_type": "code",
      "metadata": {
        "id": "JEHnQyIpHF2l"
      },
      "source": [
        "import tensorflow as tf"
      ],
      "execution_count": 4,
      "outputs": []
    },
    {
      "cell_type": "code",
      "metadata": {
        "id": "8fXVpPnGHJeY"
      },
      "source": [
        "model = tf.keras.models.Sequential([\n",
        "  tf.keras.layers.Conv2D(16, (3,3,), activation='relu', input_shape=(300, 300, 3)),\n",
        "  tf.keras.layers.MaxPooling2D(2,2),\n",
        "  tf.keras.layers.Conv2D(32, (3,3,), activation='relu'),\n",
        "  tf.keras.layers.MaxPooling2D(2,2),\n",
        "  tf.keras.layers.Conv2D(64, (3,3,), activation='relu'),\n",
        "  tf.keras.layers.MaxPooling2D(2,2),    \n",
        "  tf.keras.layers.Conv2D(64, (3,3,), activation='relu'),\n",
        "  tf.keras.layers.MaxPooling2D(2,2),    \n",
        "  tf.keras.layers.Conv2D(64, (3,3,), activation='relu'),\n",
        "  tf.keras.layers.MaxPooling2D(2,2),    \n",
        "  tf.keras.layers.Flatten(),\n",
        "  tf.keras.layers.Dense(512, activation='relu'),\n",
        "  tf.keras.layers.Dense(1, activation='sigmoid')\n",
        "])"
      ],
      "execution_count": 5,
      "outputs": []
    },
    {
      "cell_type": "code",
      "metadata": {
        "colab": {
          "base_uri": "https://localhost:8080/"
        },
        "id": "mkMDBCTSH78K",
        "outputId": "4a3136d6-582c-4b5c-bad0-b7537ed836a7"
      },
      "source": [
        "model.summary()"
      ],
      "execution_count": 6,
      "outputs": [
        {
          "output_type": "stream",
          "text": [
            "Model: \"sequential\"\n",
            "_________________________________________________________________\n",
            "Layer (type)                 Output Shape              Param #   \n",
            "=================================================================\n",
            "conv2d (Conv2D)              (None, 298, 298, 16)      448       \n",
            "_________________________________________________________________\n",
            "max_pooling2d (MaxPooling2D) (None, 149, 149, 16)      0         \n",
            "_________________________________________________________________\n",
            "conv2d_1 (Conv2D)            (None, 147, 147, 32)      4640      \n",
            "_________________________________________________________________\n",
            "max_pooling2d_1 (MaxPooling2 (None, 73, 73, 32)        0         \n",
            "_________________________________________________________________\n",
            "conv2d_2 (Conv2D)            (None, 71, 71, 64)        18496     \n",
            "_________________________________________________________________\n",
            "max_pooling2d_2 (MaxPooling2 (None, 35, 35, 64)        0         \n",
            "_________________________________________________________________\n",
            "conv2d_3 (Conv2D)            (None, 33, 33, 64)        36928     \n",
            "_________________________________________________________________\n",
            "max_pooling2d_3 (MaxPooling2 (None, 16, 16, 64)        0         \n",
            "_________________________________________________________________\n",
            "conv2d_4 (Conv2D)            (None, 14, 14, 64)        36928     \n",
            "_________________________________________________________________\n",
            "max_pooling2d_4 (MaxPooling2 (None, 7, 7, 64)          0         \n",
            "_________________________________________________________________\n",
            "flatten (Flatten)            (None, 3136)              0         \n",
            "_________________________________________________________________\n",
            "dense (Dense)                (None, 512)               1606144   \n",
            "_________________________________________________________________\n",
            "dense_1 (Dense)              (None, 1)                 513       \n",
            "=================================================================\n",
            "Total params: 1,704,097\n",
            "Trainable params: 1,704,097\n",
            "Non-trainable params: 0\n",
            "_________________________________________________________________\n"
          ],
          "name": "stdout"
        }
      ]
    },
    {
      "cell_type": "code",
      "metadata": {
        "id": "mIrxr5rKIBeR"
      },
      "source": [
        "from tensorflow.keras.optimizers import RMSprop"
      ],
      "execution_count": 7,
      "outputs": []
    },
    {
      "cell_type": "code",
      "metadata": {
        "id": "mnGLWSjZIIj2"
      },
      "source": [
        "model.compile(loss='binary_crossentropy',\n",
        "              optimizer=RMSprop(lr=1e-4),\n",
        "              metrics=['accuracy'])"
      ],
      "execution_count": 8,
      "outputs": []
    },
    {
      "cell_type": "markdown",
      "metadata": {
        "id": "oejeeV7KIXWb"
      },
      "source": [
        "## Data Preprocessing"
      ]
    },
    {
      "cell_type": "code",
      "metadata": {
        "id": "95DRysSAIZLm"
      },
      "source": [
        "from tensorflow.keras.preprocessing.image import ImageDataGenerator"
      ],
      "execution_count": 9,
      "outputs": []
    },
    {
      "cell_type": "code",
      "metadata": {
        "colab": {
          "base_uri": "https://localhost:8080/"
        },
        "id": "l5KoC_NBJbJa",
        "outputId": "d67118f0-47c1-410a-8a7a-7e6bb6963089"
      },
      "source": [
        "# Rescale images by 1./255\n",
        "train_datagen = ImageDataGenerator(\n",
        "    rescale=1.0/255.,\n",
        "    rotation_range=40,\n",
        "    width_shift_range=0.2,\n",
        "    height_shift_range=0.2,\n",
        "    shear_range=0.2,\n",
        "    zoom_range=0.2,\n",
        "    horizontal_flip=True,\n",
        "    fill_mode='nearest')\n",
        "\n",
        "validation_datagen = ImageDataGenerator(rescale=1.0/255.)\n",
        "\n",
        "# Flow images in batches of 128 using data generator\n",
        "train_generator = train_datagen.flow_from_directory(\n",
        "    '/tmp/horse-or-human/',\n",
        "    target_size=(300, 300), # resize all images to 300x300\n",
        "    batch_size=128,\n",
        "    class_mode='binary' # since we use binary_crossentropy, we need binary labels\n",
        ")\n",
        "\n",
        "validation_generator = validation_datagen.flow_from_directory(\n",
        "    '/tmp/validation-horse-or-human/',\n",
        "    target_size=(300, 300), # resize all images to 300x300\n",
        "    batch_size=32,\n",
        "    class_mode='binary' # since we use binary_crossentropy, we need binary labels\n",
        ")"
      ],
      "execution_count": 10,
      "outputs": [
        {
          "output_type": "stream",
          "text": [
            "Found 1027 images belonging to 2 classes.\n",
            "Found 256 images belonging to 2 classes.\n"
          ],
          "name": "stdout"
        }
      ]
    },
    {
      "cell_type": "markdown",
      "metadata": {
        "id": "oKtIcFgOKvEb"
      },
      "source": [
        "## Training"
      ]
    },
    {
      "cell_type": "code",
      "metadata": {
        "colab": {
          "base_uri": "https://localhost:8080/"
        },
        "id": "U-qRsvxDKwtd",
        "outputId": "a3ee0671-b3ac-465f-ae52-278ca7e79d19"
      },
      "source": [
        "history = model.fit(\n",
        "    train_generator,\n",
        "    steps_per_epoch=8,\n",
        "    epochs=100,\n",
        "    verbose=2,\n",
        "    validation_data = validation_generator,\n",
        "    validation_steps = 8\n",
        ")"
      ],
      "execution_count": 11,
      "outputs": [
        {
          "output_type": "stream",
          "text": [
            "Epoch 1/100\n",
            "8/8 - 53s - loss: 0.6928 - accuracy: 0.5217 - val_loss: 0.6864 - val_accuracy: 0.5000\n",
            "Epoch 2/100\n",
            "8/8 - 21s - loss: 0.6961 - accuracy: 0.5184 - val_loss: 0.6813 - val_accuracy: 0.5000\n",
            "Epoch 3/100\n",
            "8/8 - 21s - loss: 0.6799 - accuracy: 0.5484 - val_loss: 0.6452 - val_accuracy: 0.8906\n",
            "Epoch 4/100\n",
            "8/8 - 21s - loss: 0.6863 - accuracy: 0.6185 - val_loss: 0.6308 - val_accuracy: 0.5000\n",
            "Epoch 5/100\n",
            "8/8 - 21s - loss: 0.6740 - accuracy: 0.6196 - val_loss: 0.7087 - val_accuracy: 0.5000\n",
            "Epoch 6/100\n",
            "8/8 - 21s - loss: 0.6560 - accuracy: 0.5895 - val_loss: 0.6342 - val_accuracy: 0.5430\n",
            "Epoch 7/100\n",
            "8/8 - 21s - loss: 0.6309 - accuracy: 0.6674 - val_loss: 0.5645 - val_accuracy: 0.7461\n",
            "Epoch 8/100\n",
            "8/8 - 22s - loss: 0.6616 - accuracy: 0.6852 - val_loss: 0.5503 - val_accuracy: 0.7461\n",
            "Epoch 9/100\n",
            "8/8 - 24s - loss: 0.5900 - accuracy: 0.7793 - val_loss: 0.6089 - val_accuracy: 0.5781\n",
            "Epoch 10/100\n",
            "8/8 - 21s - loss: 0.5840 - accuracy: 0.7119 - val_loss: 0.6199 - val_accuracy: 0.5742\n",
            "Epoch 11/100\n",
            "8/8 - 21s - loss: 0.5682 - accuracy: 0.7297 - val_loss: 0.5259 - val_accuracy: 0.7188\n",
            "Epoch 12/100\n",
            "8/8 - 22s - loss: 0.6447 - accuracy: 0.6841 - val_loss: 0.5361 - val_accuracy: 0.7070\n",
            "Epoch 13/100\n",
            "8/8 - 21s - loss: 0.5270 - accuracy: 0.7553 - val_loss: 0.5977 - val_accuracy: 0.6367\n",
            "Epoch 14/100\n",
            "8/8 - 21s - loss: 0.5062 - accuracy: 0.7497 - val_loss: 0.5347 - val_accuracy: 0.7266\n",
            "Epoch 15/100\n",
            "8/8 - 21s - loss: 0.4955 - accuracy: 0.7731 - val_loss: 1.1148 - val_accuracy: 0.5312\n",
            "Epoch 16/100\n",
            "8/8 - 21s - loss: 0.5089 - accuracy: 0.7442 - val_loss: 1.0581 - val_accuracy: 0.5352\n",
            "Epoch 17/100\n",
            "8/8 - 21s - loss: 0.4827 - accuracy: 0.7620 - val_loss: 0.9962 - val_accuracy: 0.5547\n",
            "Epoch 18/100\n",
            "8/8 - 24s - loss: 0.4647 - accuracy: 0.8008 - val_loss: 1.3831 - val_accuracy: 0.5195\n",
            "Epoch 19/100\n",
            "8/8 - 21s - loss: 0.5012 - accuracy: 0.7620 - val_loss: 0.9571 - val_accuracy: 0.5742\n",
            "Epoch 20/100\n",
            "8/8 - 21s - loss: 0.4289 - accuracy: 0.7953 - val_loss: 1.0716 - val_accuracy: 0.5703\n",
            "Epoch 21/100\n",
            "8/8 - 21s - loss: 0.4692 - accuracy: 0.7764 - val_loss: 0.8135 - val_accuracy: 0.6328\n",
            "Epoch 22/100\n",
            "8/8 - 21s - loss: 0.5053 - accuracy: 0.7664 - val_loss: 0.8146 - val_accuracy: 0.6211\n",
            "Epoch 23/100\n",
            "8/8 - 22s - loss: 0.4286 - accuracy: 0.8065 - val_loss: 1.2239 - val_accuracy: 0.5703\n",
            "Epoch 24/100\n",
            "8/8 - 22s - loss: 0.3961 - accuracy: 0.8331 - val_loss: 1.8926 - val_accuracy: 0.5195\n",
            "Epoch 25/100\n",
            "8/8 - 21s - loss: 0.4785 - accuracy: 0.7898 - val_loss: 0.8492 - val_accuracy: 0.6562\n",
            "Epoch 26/100\n",
            "8/8 - 21s - loss: 0.4520 - accuracy: 0.8009 - val_loss: 1.3526 - val_accuracy: 0.5820\n",
            "Epoch 27/100\n",
            "8/8 - 22s - loss: 0.3980 - accuracy: 0.8109 - val_loss: 1.2561 - val_accuracy: 0.5938\n",
            "Epoch 28/100\n",
            "8/8 - 21s - loss: 0.4007 - accuracy: 0.8131 - val_loss: 1.2988 - val_accuracy: 0.6016\n",
            "Epoch 29/100\n",
            "8/8 - 21s - loss: 0.4274 - accuracy: 0.8087 - val_loss: 1.1071 - val_accuracy: 0.6133\n",
            "Epoch 30/100\n",
            "8/8 - 21s - loss: 0.4327 - accuracy: 0.8020 - val_loss: 1.3664 - val_accuracy: 0.5977\n",
            "Epoch 31/100\n",
            "8/8 - 21s - loss: 0.3731 - accuracy: 0.8420 - val_loss: 1.5819 - val_accuracy: 0.5742\n",
            "Epoch 32/100\n",
            "8/8 - 21s - loss: 0.3487 - accuracy: 0.8554 - val_loss: 0.6572 - val_accuracy: 0.7266\n",
            "Epoch 33/100\n",
            "8/8 - 22s - loss: 0.3740 - accuracy: 0.8365 - val_loss: 1.3050 - val_accuracy: 0.5977\n",
            "Epoch 34/100\n",
            "8/8 - 22s - loss: 0.3427 - accuracy: 0.8576 - val_loss: 0.3490 - val_accuracy: 0.8711\n",
            "Epoch 35/100\n",
            "8/8 - 21s - loss: 0.3829 - accuracy: 0.8465 - val_loss: 1.5908 - val_accuracy: 0.5781\n",
            "Epoch 36/100\n",
            "8/8 - 22s - loss: 0.3626 - accuracy: 0.8432 - val_loss: 1.6828 - val_accuracy: 0.5781\n",
            "Epoch 37/100\n",
            "8/8 - 22s - loss: 0.3500 - accuracy: 0.8476 - val_loss: 1.2267 - val_accuracy: 0.6367\n",
            "Epoch 38/100\n",
            "8/8 - 22s - loss: 0.3891 - accuracy: 0.8187 - val_loss: 1.6411 - val_accuracy: 0.5938\n",
            "Epoch 39/100\n",
            "8/8 - 25s - loss: 0.2836 - accuracy: 0.8877 - val_loss: 1.7896 - val_accuracy: 0.6016\n",
            "Epoch 40/100\n",
            "8/8 - 22s - loss: 0.3797 - accuracy: 0.8265 - val_loss: 1.8115 - val_accuracy: 0.5781\n",
            "Epoch 41/100\n",
            "8/8 - 22s - loss: 0.3763 - accuracy: 0.8465 - val_loss: 2.0739 - val_accuracy: 0.5664\n",
            "Epoch 42/100\n",
            "8/8 - 21s - loss: 0.3382 - accuracy: 0.8521 - val_loss: 1.8080 - val_accuracy: 0.5859\n",
            "Epoch 43/100\n",
            "8/8 - 22s - loss: 0.3201 - accuracy: 0.8598 - val_loss: 1.5853 - val_accuracy: 0.6250\n",
            "Epoch 44/100\n",
            "8/8 - 21s - loss: 0.3042 - accuracy: 0.8632 - val_loss: 1.1513 - val_accuracy: 0.6875\n",
            "Epoch 45/100\n",
            "8/8 - 21s - loss: 0.3212 - accuracy: 0.8565 - val_loss: 1.1265 - val_accuracy: 0.6914\n",
            "Epoch 46/100\n",
            "8/8 - 21s - loss: 0.2345 - accuracy: 0.9143 - val_loss: 3.2102 - val_accuracy: 0.5312\n",
            "Epoch 47/100\n",
            "8/8 - 22s - loss: 0.3348 - accuracy: 0.8554 - val_loss: 2.0334 - val_accuracy: 0.5859\n",
            "Epoch 48/100\n",
            "8/8 - 21s - loss: 0.2564 - accuracy: 0.8954 - val_loss: 2.5512 - val_accuracy: 0.5586\n",
            "Epoch 49/100\n",
            "8/8 - 21s - loss: 0.2906 - accuracy: 0.8832 - val_loss: 1.3182 - val_accuracy: 0.6836\n",
            "Epoch 50/100\n",
            "8/8 - 22s - loss: 0.3320 - accuracy: 0.8509 - val_loss: 1.8563 - val_accuracy: 0.6055\n",
            "Epoch 51/100\n",
            "8/8 - 24s - loss: 0.2221 - accuracy: 0.9238 - val_loss: 1.7143 - val_accuracy: 0.6562\n",
            "Epoch 52/100\n",
            "8/8 - 21s - loss: 0.3090 - accuracy: 0.8643 - val_loss: 2.1519 - val_accuracy: 0.6055\n",
            "Epoch 53/100\n",
            "8/8 - 21s - loss: 0.2737 - accuracy: 0.8854 - val_loss: 2.0635 - val_accuracy: 0.6055\n",
            "Epoch 54/100\n",
            "8/8 - 21s - loss: 0.2932 - accuracy: 0.8710 - val_loss: 1.8685 - val_accuracy: 0.6289\n",
            "Epoch 55/100\n",
            "8/8 - 23s - loss: 0.2145 - accuracy: 0.9170 - val_loss: 2.7956 - val_accuracy: 0.5625\n",
            "Epoch 56/100\n",
            "8/8 - 21s - loss: 0.3071 - accuracy: 0.8710 - val_loss: 2.2229 - val_accuracy: 0.6016\n",
            "Epoch 57/100\n",
            "8/8 - 24s - loss: 0.2047 - accuracy: 0.9180 - val_loss: 2.6561 - val_accuracy: 0.5664\n",
            "Epoch 58/100\n",
            "8/8 - 24s - loss: 0.2528 - accuracy: 0.8984 - val_loss: 2.5155 - val_accuracy: 0.5664\n",
            "Epoch 59/100\n",
            "8/8 - 21s - loss: 0.2329 - accuracy: 0.9066 - val_loss: 1.5164 - val_accuracy: 0.6797\n",
            "Epoch 60/100\n",
            "8/8 - 21s - loss: 0.2314 - accuracy: 0.9077 - val_loss: 3.1885 - val_accuracy: 0.5508\n",
            "Epoch 61/100\n",
            "8/8 - 21s - loss: 0.2329 - accuracy: 0.9066 - val_loss: 1.6812 - val_accuracy: 0.6641\n",
            "Epoch 62/100\n",
            "8/8 - 21s - loss: 0.2325 - accuracy: 0.8943 - val_loss: 4.7007 - val_accuracy: 0.5078\n",
            "Epoch 63/100\n",
            "8/8 - 21s - loss: 0.2405 - accuracy: 0.8999 - val_loss: 2.3005 - val_accuracy: 0.5938\n",
            "Epoch 64/100\n",
            "8/8 - 22s - loss: 0.1802 - accuracy: 0.9310 - val_loss: 3.0095 - val_accuracy: 0.5742\n",
            "Epoch 65/100\n",
            "8/8 - 22s - loss: 0.2525 - accuracy: 0.8977 - val_loss: 2.6354 - val_accuracy: 0.5703\n",
            "Epoch 66/100\n",
            "8/8 - 22s - loss: 0.2834 - accuracy: 0.8676 - val_loss: 2.1845 - val_accuracy: 0.6055\n",
            "Epoch 67/100\n",
            "8/8 - 21s - loss: 0.2800 - accuracy: 0.8754 - val_loss: 2.4557 - val_accuracy: 0.5898\n",
            "Epoch 68/100\n",
            "8/8 - 21s - loss: 0.2216 - accuracy: 0.9121 - val_loss: 1.3506 - val_accuracy: 0.7109\n",
            "Epoch 69/100\n",
            "8/8 - 22s - loss: 0.2425 - accuracy: 0.8865 - val_loss: 2.6109 - val_accuracy: 0.5898\n",
            "Epoch 70/100\n",
            "8/8 - 21s - loss: 0.2126 - accuracy: 0.9077 - val_loss: 1.7575 - val_accuracy: 0.6602\n",
            "Epoch 71/100\n",
            "8/8 - 21s - loss: 0.3257 - accuracy: 0.8776 - val_loss: 2.7975 - val_accuracy: 0.5898\n",
            "Epoch 72/100\n",
            "8/8 - 24s - loss: 0.1562 - accuracy: 0.9531 - val_loss: 2.7047 - val_accuracy: 0.5898\n",
            "Epoch 73/100\n",
            "8/8 - 21s - loss: 0.1801 - accuracy: 0.9266 - val_loss: 2.2484 - val_accuracy: 0.6328\n",
            "Epoch 74/100\n",
            "8/8 - 21s - loss: 0.1956 - accuracy: 0.9155 - val_loss: 1.8143 - val_accuracy: 0.6562\n",
            "Epoch 75/100\n",
            "8/8 - 21s - loss: 0.1869 - accuracy: 0.9255 - val_loss: 2.9013 - val_accuracy: 0.5820\n",
            "Epoch 76/100\n",
            "8/8 - 21s - loss: 0.2080 - accuracy: 0.9177 - val_loss: 2.6490 - val_accuracy: 0.5859\n",
            "Epoch 77/100\n",
            "8/8 - 24s - loss: 0.2287 - accuracy: 0.9023 - val_loss: 4.3465 - val_accuracy: 0.5078\n",
            "Epoch 78/100\n",
            "8/8 - 24s - loss: 0.2208 - accuracy: 0.9150 - val_loss: 2.2208 - val_accuracy: 0.6250\n",
            "Epoch 79/100\n",
            "8/8 - 21s - loss: 0.1840 - accuracy: 0.9266 - val_loss: 2.4891 - val_accuracy: 0.6016\n",
            "Epoch 80/100\n",
            "8/8 - 21s - loss: 0.2876 - accuracy: 0.8899 - val_loss: 2.4961 - val_accuracy: 0.5977\n",
            "Epoch 81/100\n",
            "8/8 - 21s - loss: 0.1588 - accuracy: 0.9488 - val_loss: 2.5440 - val_accuracy: 0.5977\n",
            "Epoch 82/100\n",
            "8/8 - 22s - loss: 0.1825 - accuracy: 0.9366 - val_loss: 3.7261 - val_accuracy: 0.5430\n",
            "Epoch 83/100\n",
            "8/8 - 24s - loss: 0.1753 - accuracy: 0.9307 - val_loss: 2.9054 - val_accuracy: 0.5898\n",
            "Epoch 84/100\n",
            "8/8 - 24s - loss: 0.2061 - accuracy: 0.9141 - val_loss: 1.9369 - val_accuracy: 0.6328\n",
            "Epoch 85/100\n",
            "8/8 - 22s - loss: 0.2197 - accuracy: 0.9088 - val_loss: 1.4571 - val_accuracy: 0.6953\n",
            "Epoch 86/100\n",
            "8/8 - 22s - loss: 0.1972 - accuracy: 0.9177 - val_loss: 3.8203 - val_accuracy: 0.5312\n",
            "Epoch 87/100\n",
            "8/8 - 22s - loss: 0.2064 - accuracy: 0.9066 - val_loss: 2.6578 - val_accuracy: 0.5977\n",
            "Epoch 88/100\n",
            "8/8 - 22s - loss: 0.1531 - accuracy: 0.9455 - val_loss: 2.9819 - val_accuracy: 0.5898\n",
            "Epoch 89/100\n",
            "8/8 - 22s - loss: 0.1401 - accuracy: 0.9522 - val_loss: 4.5638 - val_accuracy: 0.5117\n",
            "Epoch 90/100\n",
            "8/8 - 22s - loss: 0.1965 - accuracy: 0.9266 - val_loss: 2.8079 - val_accuracy: 0.5938\n",
            "Epoch 91/100\n",
            "8/8 - 22s - loss: 0.2441 - accuracy: 0.9043 - val_loss: 2.4386 - val_accuracy: 0.6094\n",
            "Epoch 92/100\n",
            "8/8 - 22s - loss: 0.1318 - accuracy: 0.9433 - val_loss: 3.1110 - val_accuracy: 0.5859\n",
            "Epoch 93/100\n",
            "8/8 - 22s - loss: 0.1520 - accuracy: 0.9511 - val_loss: 3.0164 - val_accuracy: 0.5781\n",
            "Epoch 94/100\n",
            "8/8 - 22s - loss: 0.1954 - accuracy: 0.9232 - val_loss: 2.4569 - val_accuracy: 0.6094\n",
            "Epoch 95/100\n",
            "8/8 - 22s - loss: 0.1437 - accuracy: 0.9444 - val_loss: 1.2169 - val_accuracy: 0.7305\n",
            "Epoch 96/100\n",
            "8/8 - 22s - loss: 0.2938 - accuracy: 0.8843 - val_loss: 2.6375 - val_accuracy: 0.5781\n",
            "Epoch 97/100\n",
            "8/8 - 22s - loss: 0.1378 - accuracy: 0.9499 - val_loss: 2.8089 - val_accuracy: 0.5938\n",
            "Epoch 98/100\n",
            "8/8 - 22s - loss: 0.1387 - accuracy: 0.9544 - val_loss: 2.1954 - val_accuracy: 0.6562\n",
            "Epoch 99/100\n",
            "8/8 - 22s - loss: 0.1615 - accuracy: 0.9321 - val_loss: 3.3063 - val_accuracy: 0.5859\n",
            "Epoch 100/100\n",
            "8/8 - 24s - loss: 0.1513 - accuracy: 0.9414 - val_loss: 2.1696 - val_accuracy: 0.6289\n"
          ],
          "name": "stdout"
        }
      ]
    },
    {
      "cell_type": "markdown",
      "metadata": {
        "id": "nxcmjLBUZcNo"
      },
      "source": [
        "## Evaluating Accuracy and Loss for the model"
      ]
    },
    {
      "cell_type": "code",
      "metadata": {
        "colab": {
          "base_uri": "https://localhost:8080/",
          "height": 545
        },
        "id": "TZq2vXZNZfrS",
        "outputId": "77615e03-b623-43b0-ae26-e39abe0ac7a0"
      },
      "source": [
        "#---------------------------------------------\n",
        "# Retrive list of results on training and test \n",
        "# data sets for each training epoch\n",
        "#---------------------------------------------\n",
        "import matplotlib.pyplot as plt\n",
        "acc     = history.history['accuracy']\n",
        "val_acc = history.history['val_accuracy']\n",
        "loss = history.history['loss']\n",
        "val_loss = history.history['val_loss']\n",
        "\n",
        "epochs = range(len(acc)) # Get number of epochs\n",
        "\n",
        "#------------------------------------------------\n",
        "# Plot training and validation accuracy per epoch\n",
        "#------------------------------------------------\n",
        "plt.plot  ( epochs,     acc, 'r', label=\"Training accuracy\")\n",
        "plt.plot  ( epochs, val_acc , 'b', label=\"Validation accuracy\")\n",
        "plt.title ('Training and validation accuracy')\n",
        "plt.figure()\n",
        "\n",
        "#------------------------------------------------\n",
        "# Plot training and validation loss per epoch\n",
        "#------------------------------------------------\n",
        "plt.plot  ( epochs,     loss , 'r', label=\"Training Loss\")\n",
        "plt.plot  ( epochs, val_loss , 'b', label=\"Validation loss\")\n",
        "plt.title ('Training and validation loss')\n",
        "plt.legend()\n",
        "\n",
        "plt.show()"
      ],
      "execution_count": 13,
      "outputs": [
        {
          "output_type": "display_data",
          "data": {
            "image/png": "[encoded data removed]",
            "text/plain": [
              "<Figure size 432x288 with 1 Axes>"
            ]
          },
          "metadata": {
            "tags": [],
            "needs_background": "light"
          }
        },
        {
          "output_type": "display_data",
          "data": {
            "image/png": "[encoded data removed]",
            "text/plain": [
              "<Figure size 432x288 with 1 Axes>"
            ]
          },
          "metadata": {
            "tags": [],
            "needs_background": "light"
          }
        }
      ]
    }
  ]
}